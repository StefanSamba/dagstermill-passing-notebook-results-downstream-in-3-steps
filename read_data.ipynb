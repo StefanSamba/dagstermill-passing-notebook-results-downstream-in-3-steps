{
 "cells": [
  {
   "cell_type": "code",
   "execution_count": 1,
   "id": "689239fd",
   "metadata": {},
   "outputs": [],
   "source": [
    "import dagstermill as dm\n",
    "\n",
    "# Logging loaded numbers from \"ins\"\n",
    "dm.get_context().log.info(f\"Step 2 - read_data - Loaded numbers: {numbers}\")\n"
   ]
  },
  {
   "cell_type": "code",
   "execution_count": null,
   "id": "8aedc2f3",
   "metadata": {},
   "outputs": [],
   "source": []
  }
 ],
 "metadata": {
  "celltoolbar": "Tags",
  "kernelspec": {
   "display_name": "Python 3 (ipykernel)",
   "language": "python",
   "name": "python3"
  },
  "language_info": {
   "codemirror_mode": {
    "name": "ipython",
    "version": 3
   },
   "file_extension": ".py",
   "mimetype": "text/x-python",
   "name": "python",
   "nbconvert_exporter": "python",
   "pygments_lexer": "ipython3",
   "version": "3.9.7"
  }
 },
 "nbformat": 4,
 "nbformat_minor": 5
}
