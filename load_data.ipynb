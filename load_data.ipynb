{
 "cells": [
  {
   "cell_type": "code",
   "execution_count": 1,
   "id": "4b32bc8f",
   "metadata": {},
   "outputs": [],
   "source": [
    "import dagstermill as dm\n",
    "\n",
    "result = [1,2,3,4]\n",
    "\n",
    "# Log result to UI logs\n",
    "dm.get_context().log.info(f\"Step 1 - Load_data - results: {result}\")\n",
    "\n",
    "# Now yielding it to \"outs\"\n",
    "dm.yield_result(result, \"numbers\")\n"
   ]
  }
 ],
 "metadata": {
  "celltoolbar": "Tags",
  "kernelspec": {
   "display_name": "Python 3 (ipykernel)",
   "language": "python",
   "name": "python3"
  },
  "language_info": {
   "codemirror_mode": {
    "name": "ipython",
    "version": 3
   },
   "file_extension": ".py",
   "mimetype": "text/x-python",
   "name": "python",
   "nbconvert_exporter": "python",
   "pygments_lexer": "ipython3",
   "version": "3.9.7"
  }
 },
 "nbformat": 4,
 "nbformat_minor": 5
}
